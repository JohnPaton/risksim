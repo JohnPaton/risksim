{
 "cells": [
  {
   "cell_type": "code",
   "execution_count": 1,
   "id": "4cda3d94-4cce-439a-9450-0d0225daf1d0",
   "metadata": {},
   "outputs": [],
   "source": [
    "# inputs\n",
    "NUM_CARDS = 10\n",
    "TRADEINS = [\"RRR\", \"RRR\"]"
   ]
  },
  {
   "cell_type": "code",
   "execution_count": 2,
   "id": "784de7a5-5262-4d57-a141-840948a5fdca",
   "metadata": {},
   "outputs": [],
   "source": [
    "# constants\n",
    "CARDS = \"RGB\"  # possible card values\n",
    "VALID_TRADEINS = [\"RGB\", \"BBB\", \"GGG\", \"RRR\"]  # descending order of value\n",
    "assert all(t in VALID_TRADEINS for t in TRADEINS)  # validate input"
   ]
  },
  {
   "cell_type": "code",
   "execution_count": 3,
   "id": "d166171b-e0fa-47f1-acf1-aca2abcb791d",
   "metadata": {},
   "outputs": [],
   "source": [
    "import itertools\n",
    "\n",
    "\n",
    "def num_unique_permutations(population):\n",
    "    return len(set(itertools.permutations(population, len(population))))\n",
    "\n",
    "\n",
    "def contains_all(candidate: list, population: list):\n",
    "    \"\"\"Whether the all members of the candidate are in the population (including duplicates)\"\"\"\n",
    "    candidate = list(candidate)\n",
    "    remaining_population = list(population).copy()\n",
    "    for c in candidate:\n",
    "        if c in remaining_population:\n",
    "            remaining_population.remove(c)\n",
    "        else:\n",
    "            return False\n",
    "    return True\n",
    "\n",
    "\n",
    "def get_tradeins_from_set(cards):\n",
    "    \"\"\"Get the best set of tradeins available for a given combination of cards\"\"\"\n",
    "    tradeins = []\n",
    "    remaining_cards = list(cards).copy()\n",
    "    maybe_tradeins_remaining = True\n",
    "        \n",
    "    while maybe_tradeins_remaining:\n",
    "        maybe_tradeins_remaining = False\n",
    "        for vti in VALID_TRADEINS:\n",
    "            if contains_all(vti, remaining_cards):\n",
    "                tradeins.append(vti)\n",
    "                \n",
    "                [remaining_cards.remove(c) for c in vti]\n",
    "                maybe_tradeins_remaining = True\n",
    "\n",
    "    return tradeins"
   ]
  },
  {
   "cell_type": "code",
   "execution_count": 4,
   "id": "c30ae82b-eebc-4226-a295-bf1524effc37",
   "metadata": {},
   "outputs": [
    {
     "name": "stdout",
     "output_type": "stream",
     "text": [
      "\n",
      "There are 66 unordered combinations of 10 cards.\n",
      "Of these, the following combinations have exactly the trade-ins RRR + RRR:\n",
      "\n",
      "R R R R R R R R G G with 45 possible unique permutations\n",
      "R R R R R R R R B B with 45 possible unique permutations\n",
      "\n",
      "There are 59,049 total possible permutations of 10 cards.\n",
      "Therefore, the probability of getting exactly the trade-ins RRR + RRR from a set of 10 cards is:\n",
      "90/59049 ~= 0.152%\n",
      "\n"
     ]
    }
   ],
   "source": [
    "all_possible_unordered_combinations = list(itertools.combinations_with_replacement(CARDS, NUM_CARDS))\n",
    "\n",
    "num_possible_draws = len(CARDS)**NUM_CARDS  # number of unique permutations of the cards\n",
    "\n",
    "num_matching_draws = 0  # number of unique permutations of the cards which have exactly the desired tradeins\n",
    "matching_combos = []\n",
    "for combo in all_possible_unordered_combinations:\n",
    "    if sorted(get_tradeins_from_set(combo)) == sorted(TRADEINS):\n",
    "        num_unique_perms = num_unique_permutations(combo)\n",
    "        num_matching_draws += num_unique_perms\n",
    "        matching_combos.append(\" \".join(combo)+ f\" with {num_unique_perms} possible unique permutations\")\n",
    "\n",
    "matching_combos = \"\\n\".join(matching_combos) if matching_combos else \"None\"\n",
    "print(f\"\"\"\n",
    "There are {len(all_possible_unordered_combinations)} unordered combinations of {NUM_CARDS} cards.\n",
    "Of these, the following combinations have exactly the trade-ins {\" + \".join(TRADEINS)}:\n",
    "\n",
    "{matching_combos}\n",
    "\n",
    "There are {num_possible_draws:,} total possible permutations of {NUM_CARDS} cards.\n",
    "Therefore, the probability of getting exactly the trade-ins {\" + \".join(TRADEINS)} from a set of {NUM_CARDS} cards is:\n",
    "{num_matching_draws}/{num_possible_draws} ~= {num_matching_draws/num_possible_draws:.3%}\n",
    "\"\"\")"
   ]
  }
 ],
 "metadata": {
  "kernelspec": {
   "display_name": "Python 3 (ipykernel)",
   "language": "python",
   "name": "python3"
  },
  "language_info": {
   "codemirror_mode": {
    "name": "ipython",
    "version": 3
   },
   "file_extension": ".py",
   "mimetype": "text/x-python",
   "name": "python",
   "nbconvert_exporter": "python",
   "pygments_lexer": "ipython3",
   "version": "3.9.19"
  }
 },
 "nbformat": 4,
 "nbformat_minor": 5
}
